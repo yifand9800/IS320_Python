{
  "nbformat": 4,
  "nbformat_minor": 0,
  "metadata": {
    "colab": {
      "name": "eod_analysis_demo.ipynb",
      "provenance": [],
      "include_colab_link": true
    },
    "kernelspec": {
      "name": "python3",
      "display_name": "Python 3"
    },
    "language_info": {
      "name": "python"
    }
  },
  "cells": [
    {
      "cell_type": "markdown",
      "metadata": {
        "id": "view-in-github",
        "colab_type": "text"
      },
      "source": [
        "<a href=\"https://colab.research.google.com/github/yifand9800/IS320_Python/blob/main/eod_analysis.ipynb\" target=\"_parent\"><img src=\"https://colab.research.google.com/assets/colab-badge.svg\" alt=\"Open In Colab\"/></a>"
      ]
    },
    {
      "cell_type": "markdown",
      "source": [
        "You are provided two csv files. The first, is the file used in the code below, and is provided for you to run the code below.  The second, which will have the letters 'prj' as part of the filename, is for use with your deliverable. It is recommended that \n",
        "\n",
        "1.   you keep this notebook (ipynb file) as is for reference and testing (do the testing as you watch the video)\n",
        "2.   make a copy of it  (File:Save a Copy in Drive from above)\n",
        "3.   rename the new file to include prj1A  if you are team 1 in morning section\n",
        "4.   use the prj csv file with that\n",
        "5.   and start editing the code cells as instructed\n",
        "6.   at the end, add text cells to enter responses to questions asked\n",
        "\n",
        "turn in the notebook (ipynb) as your deliverable (it must work with the csv we provided)\n",
        "You may share a link to the notebook in addition to the notebook itself.\n",
        "\n"
      ],
      "metadata": {
        "id": "ue5Ao4xrJKy8"
      }
    },
    {
      "cell_type": "code",
      "execution_count": null,
      "metadata": {
        "id": "FFxCB-AxOnDc"
      },
      "outputs": [],
      "source": [
        "import numpy as np\n",
        "import pandas as pd\n",
        "from pylab import mpl,plt\n",
        "plt.style.use('seaborn')\n",
        "%matplotlib inline"
      ]
    },
    {
      "cell_type": "markdown",
      "source": [
        "In your project notebook: **you will need to edit the cell below to match the file provided. Consult the video!**"
      ],
      "metadata": {
        "id": "qPsdEtAd8zKj"
      }
    },
    {
      "cell_type": "code",
      "source": [
        "df = pd.read_csv('stock_price_data_eod2.csv', usecols=[3,10,12], parse_dates = True) #importing close price, symbol, and date "
      ],
      "metadata": {
        "id": "jijHXlW0Or6T"
      },
      "execution_count": null,
      "outputs": []
    },
    {
      "cell_type": "code",
      "source": [
        "df.head()  #head is first few rows"
      ],
      "metadata": {
        "id": "sLhvasW-PvtO"
      },
      "execution_count": null,
      "outputs": []
    },
    {
      "cell_type": "markdown",
      "source": [
        "**In your project notebook you will need to edit the line below**"
      ],
      "metadata": {
        "id": "Y_HOnTTsLpTI"
      }
    },
    {
      "cell_type": "code",
      "source": [
        "df2 = df.pivot_table(index = 'date',columns = 'symbol', values = 'close') #pivoting so that symbols become individual columns"
      ],
      "metadata": {
        "id": "8-ut5XbMP7Pf"
      },
      "execution_count": null,
      "outputs": []
    },
    {
      "cell_type": "markdown",
      "source": [
        "For your project, in the steps below, **make and use a new df4 instead of the df2. That new frame is to contain only four stocks, any four from the dataset.** hint: see how msft and amazon columns are selected  from df2 below in the correlation analysis."
      ],
      "metadata": {
        "id": "8u3hre41FyqB"
      }
    },
    {
      "cell_type": "code",
      "source": [
        "df2.head()"
      ],
      "metadata": {
        "id": "XU_83-7hQPKu"
      },
      "execution_count": null,
      "outputs": []
    },
    {
      "cell_type": "code",
      "source": [
        "df2.info() #a better processing would process the dates so that pandas recognizes them as dates.  Also only 100 entries here, not enough."
      ],
      "metadata": {
        "id": "QNangK7DQ07o"
      },
      "execution_count": null,
      "outputs": []
    },
    {
      "cell_type": "code",
      "source": [
        "df2.plot(figsize=(14,12), subplots = True)  "
      ],
      "metadata": {
        "id": "khDBh0rQSMY7"
      },
      "execution_count": null,
      "outputs": []
    },
    {
      "cell_type": "code",
      "source": [
        "df2.describe().round(2)  #summary stats, rounded"
      ],
      "metadata": {
        "id": "wMnWpfP0Sxdl"
      },
      "execution_count": null,
      "outputs": []
    },
    {
      "cell_type": "code",
      "source": [
        "df2.mean()   #means only"
      ],
      "metadata": {
        "id": "Yv-k2wqIS55k"
      },
      "execution_count": null,
      "outputs": []
    },
    {
      "cell_type": "code",
      "source": [
        "df2.diff().head()      #daily returns  NaN is Not a Number.  "
      ],
      "metadata": {
        "id": "R9f8B7fJTIwb"
      },
      "execution_count": null,
      "outputs": []
    },
    {
      "cell_type": "code",
      "source": [
        "df2.pct_change().round(3).head()  #percent changes"
      ],
      "metadata": {
        "id": "DJshgYJFTSX7"
      },
      "execution_count": null,
      "outputs": []
    },
    {
      "cell_type": "code",
      "source": [
        "df2.pct_change().mean().plot(kind = 'bar', figsize = (10,6))   #plot average percent changes  "
      ],
      "metadata": {
        "id": "dD0foTKSTh87"
      },
      "execution_count": null,
      "outputs": []
    },
    {
      "cell_type": "markdown",
      "source": [
        "Three code cells have been removed here.  They find the log returns, and plot the cumulative returns. **You are expected to re-do these cells using df4**. Consult the video"
      ],
      "metadata": {
        "id": "M1zmVwuYFXbj"
      }
    },
    {
      "cell_type": "markdown",
      "source": [
        "A simple technical analysis of one stock.  You are required to **repeat this with a different stock, using df4 instead of df2**"
      ],
      "metadata": {
        "id": "60b4ZrDVABrM"
      }
    },
    {
      "cell_type": "code",
      "source": [
        "symbol = 'NVDA'  #a simplistic technical analysis on one stock. finding crossing over/under points of moving averages\n",
        "df2['SMA1'] = df2[symbol].rolling(window = 10).mean()    #moving averages.  since only 100 days, 10 and 25 were chosen as windows\n",
        "df2['SMA2'] = df2[symbol].rolling(window = 25).mean()\n",
        "df2[[symbol,'SMA1','SMA2']].plot(figsize = (10,6))    #plotting to find crossing points of moving averages"
      ],
      "metadata": {
        "id": "4NFoxACyUufI"
      },
      "execution_count": null,
      "outputs": []
    },
    {
      "cell_type": "code",
      "source": [
        "df2.dropna(inplace = True)     #get rid of NaNs.\n",
        "df2['positions'] = np.where(df2['SMA1'] > df2['SMA2'], 1, -1 )   #an if..else  Go long if short term SMA above long term SMA (1)\n",
        "axis = df2[[symbol,'SMA1','SMA2', 'positions']].plot(figsize = (10,6),secondary_y = 'positions')\n"
      ],
      "metadata": {
        "id": "AKTm8g0TVfx_"
      },
      "execution_count": null,
      "outputs": []
    },
    {
      "cell_type": "code",
      "source": [
        "df2.head()  #just reviewing we still got the data\n"
      ],
      "metadata": {
        "id": "5n9xX-RAWviP"
      },
      "execution_count": null,
      "outputs": []
    },
    {
      "cell_type": "markdown",
      "source": [
        "Let us compare two stocks to see if they are correlated.\n",
        "You are required to **repeat steps below for two other stocks.** You may use df2 or df4 as the source for df3."
      ],
      "metadata": {
        "id": "0YhE-jV-Bj8y"
      }
    },
    {
      "cell_type": "code",
      "source": [
        "df3 = df2[['MSFT','AMZN']].dropna()   #extracting msft and amzn.  some say these move together. do they?\n",
        "df3.head()"
      ],
      "metadata": {
        "id": "FS1ZIYfBW3iI"
      },
      "execution_count": null,
      "outputs": []
    },
    {
      "cell_type": "code",
      "source": [
        "df3.plot(subplots = True, figsize = (10,6))   # let us look at their plots to see if they are correlated"
      ],
      "metadata": {
        "id": "CiPMYUbnXSrp"
      },
      "execution_count": null,
      "outputs": []
    },
    {
      "cell_type": "code",
      "source": [
        "rets = np.log(df3/df3.shift(1))      #taking a different look at possible correlation, by looking at log returns\n",
        "rets.head()"
      ],
      "metadata": {
        "id": "ygc9t0drXpX1"
      },
      "execution_count": null,
      "outputs": []
    },
    {
      "cell_type": "code",
      "source": [
        "rets.dropna(inplace = True)"
      ],
      "metadata": {
        "id": "A9ThnoQLXykt"
      },
      "execution_count": null,
      "outputs": []
    },
    {
      "cell_type": "code",
      "source": [
        "rets.plot(subplots = True, figsize = (10,6)) #clearer evidence"
      ],
      "metadata": {
        "id": "plO4DeuEX6uu"
      },
      "execution_count": null,
      "outputs": []
    },
    {
      "cell_type": "code",
      "source": [
        "regr = np.polyfit(rets['MSFT'], rets['AMZN'], deg = 1)  #doing an OLS regression to confirm\n",
        "axs = rets.plot(kind = 'scatter', x = 'MSFT', y = 'AMZN', figsize = (10,6)) #scatter plot of log returns\n",
        "axs.plot(rets['MSFT'], np.polyval(regr, rets['MSFT']), 'r', lw = 2)  #regression line overlay as red line"
      ],
      "metadata": {
        "id": "8PjtJo6VY6Gt"
      },
      "execution_count": null,
      "outputs": []
    },
    {
      "cell_type": "code",
      "source": [
        "rets.corr()  #let us just ask for the corr.value"
      ],
      "metadata": {
        "id": "ac6bvgLUZ-SG"
      },
      "execution_count": null,
      "outputs": []
    },
    {
      "cell_type": "markdown",
      "source": [
        "**Answer these questions, each response taking max two sentences**\n",
        "1.  What is the effect of subplots = True in the plot that shows all the symbols together (df2.plot or df4.plot)\n",
        "\n",
        "What do each of the functions below do in pandas? (be very brief, no need to provide technical details)\n",
        "2. diff()\n",
        "3. dropna()\n",
        "4. describe()\n",
        "5. shift()\n",
        "\n",
        "6. What is a dataframe in pandas?\n"
      ],
      "metadata": {
        "id": "EzRTsJVMHevP"
      }
    },
    {
      "cell_type": "code",
      "source": [
        ""
      ],
      "metadata": {
        "id": "eG8eaVQsaNVr"
      },
      "execution_count": null,
      "outputs": []
    }
  ]
}